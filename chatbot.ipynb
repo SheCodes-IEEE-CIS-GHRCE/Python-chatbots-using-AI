{
 "cells": [
  {
   "cell_type": "code",
   "execution_count": 2,
   "metadata": {},
   "outputs": [
    {
     "name": "stdout",
     "output_type": "stream",
     "text": [
      "Hello, I am a bot with whom you can share everything, can i know your good name?\n"
     ]
    },
    {
     "name": "stdin",
     "output_type": "stream",
     "text": [
      " Shital\n"
     ]
    },
    {
     "name": "stdout",
     "output_type": "stream",
     "text": [
      "Good to meet you Shital\n",
      "by which name will you like to call me?\n"
     ]
    },
    {
     "name": "stdin",
     "output_type": "stream",
     "text": [
      " Friend\n"
     ]
    },
    {
     "name": "stdout",
     "output_type": "stream",
     "text": [
      "Hey that's a good name\n",
      "whats up\n"
     ]
    },
    {
     "name": "stdin",
     "output_type": "stream",
     "text": [
      " i am sad\n"
     ]
    },
    {
     "name": "stdout",
     "output_type": "stream",
     "text": [
      "Sorry to hear that\n"
     ]
    },
    {
     "name": "stdin",
     "output_type": "stream",
     "text": [
      " my fitness is declinig\n"
     ]
    },
    {
     "name": "stdout",
     "output_type": "stream",
     "text": [
      "Friend :physical fitness is the first requisite of happiness.\n"
     ]
    },
    {
     "name": "stdin",
     "output_type": "stream",
     "text": [
      " thankyou\n"
     ]
    },
    {
     "name": "stdout",
     "output_type": "stream",
     "text": [
      "Friend :I am sorry! I don't understand you\n"
     ]
    },
    {
     "name": "stdin",
     "output_type": "stream",
     "text": [
      " bye\n"
     ]
    },
    {
     "name": "stdout",
     "output_type": "stream",
     "text": [
      "Friend : Bye! take care..\n"
     ]
    }
   ],
   "source": [
    "import io\n",
    "import random\n",
    "import string \n",
    "import warnings\n",
    "import numpy as np\n",
    "from sklearn.feature_extraction.text import TfidfVectorizer\n",
    "from sklearn.metrics.pairwise import cosine_similarity\n",
    "import warnings\n",
    "warnings.filterwarnings('ignore')\n",
    "\n",
    "import nltk\n",
    "from textblob import TextBlob\n",
    "from nltk.stem import WordNetLemmatizer\n",
    "nltk.download('popular', quiet=True)\n",
    "with open('motivation.txt','r', encoding='utf8', errors ='ignore') as fin:\n",
    "    raw = fin.read().lower()\n",
    "sent_tokens = nltk.sent_tokenize(raw)\n",
    "word_tokens = nltk.word_tokenize(raw)\n",
    "lemmer = WordNetLemmatizer()\n",
    "def LemTokens(tokens):\n",
    "    return [lemmer.lemmatize(token) for token in tokens]\n",
    "remove_punct_dict = dict((ord(punct), None) for punct in string.punctuation)\n",
    "def LemNormalize(text):\n",
    "    return LemTokens(nltk.word_tokenize(text.lower().translate(remove_punct_dict)))\n",
    "print(\"Hello, I am a bot with whom you can share everything, can i know your good name?\")\n",
    "name=input()\n",
    "print(\"Good to meet you \"+name)\n",
    "print(\"by which name will you like to call me?\")\n",
    "bot=input()\n",
    "print(\"Hey that's a good name\")\n",
    "greetings= [\n",
    "    \"How are you \" +name+'?',\n",
    "    \"whats up\",\n",
    "    \"How are things going on?\",\n",
    "]\n",
    "print(random.choice(greetings))\n",
    "ans=input()\n",
    "blob=TextBlob(ans)\n",
    "def greeting(blob):\n",
    "\n",
    "    Positive=[\"That sounds good\",\n",
    "             \"Great to hear that\",\n",
    "             \"That sound nice\",\n",
    "              \"Good to hear that\",\n",
    "             ]\n",
    "    Negative=[\"Hey stop worrying, everything is going to be fine\",\n",
    "             \"You are potential enough to handle everything just be patient\",\n",
    "             \"Sorry to hear that\",\n",
    "             \"Believe in yourself, you can do great things\",\n",
    "             \"After every dark night, a bright day emerges, so stop worrying.\"]\n",
    "    if blob.polarity>0:\n",
    "        greet=random.choice(Positive)\n",
    "    else:\n",
    "        greet=random.choice(Negative)\n",
    "    return greet\n",
    "print(greeting(blob))\n",
    "\n",
    "# Generating response\n",
    "def response(user_response):\n",
    "    bot_response=''\n",
    "    sent_tokens.append(user_response)\n",
    "    TfidfVec = TfidfVectorizer(tokenizer=LemNormalize, stop_words='english')\n",
    "    tfidf = TfidfVec.fit_transform(sent_tokens)\n",
    "    vals = cosine_similarity(tfidf[-1], tfidf)\n",
    "    idx=vals.argsort()[0][-2]\n",
    "    flat = vals.flatten()\n",
    "    flat.sort()\n",
    "    req_tfidf = flat[-2]\n",
    "    if(req_tfidf==0):\n",
    "        bot_response=bot_response+\"I am sorry! I don't understand you\"\n",
    "        return bot_response\n",
    "    else:\n",
    "        bot_response = bot_response+sent_tokens[idx]\n",
    "        return bot_response\n",
    "\n",
    "\n",
    "flag=True\n",
    "\n",
    "while(flag==True):\n",
    "    user_response = input()\n",
    "    user_response=user_response.lower()\n",
    "    if(user_response!='bye'):\n",
    "        if(user_response=='thanks' or user_response=='thank you' ):\n",
    "            flag=False\n",
    "            print(bot,\": You are welcome..\")\n",
    "        else:\n",
    "            print(bot,\":\",end=\"\")\n",
    "            print(response(user_response))\n",
    "            sent_tokens.remove(user_response)\n",
    "    else:\n",
    "        flag=False\n",
    "        print(bot, \": Bye! take care..\")    "
   ]
  },
  {
   "cell_type": "code",
   "execution_count": null,
   "metadata": {},
   "outputs": [],
   "source": []
  }
 ],
 "metadata": {
  "kernelspec": {
   "display_name": "Python 3",
   "language": "python",
   "name": "python3"
  },
  "language_info": {
   "codemirror_mode": {
    "name": "ipython",
    "version": 3
   },
   "file_extension": ".py",
   "mimetype": "text/x-python",
   "name": "python",
   "nbconvert_exporter": "python",
   "pygments_lexer": "ipython3",
   "version": "3.8.3"
  }
 },
 "nbformat": 4,
 "nbformat_minor": 4
}
