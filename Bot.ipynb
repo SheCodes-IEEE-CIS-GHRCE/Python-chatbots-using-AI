{
   "cells": [
  {
       "cell_type": "code",
       "execution_count": 3,
       "metadata": {},
       "outputs": [],
       "source": [
    "from textblob import TextBlob\n",
    "import nltk\n",
    "import random"
   ]
  },
  {
   "cell_type": "code",
   "execution_count": 11,
   "metadata": {},
   "outputs": [
    {
     "name": "stdout",
     "output_type": "stream",
     "text": [
      "Hello, what is your good name?\n"
     ]
    },
    {
     "name": "stdin",
     "output_type": "stream",
     "text": [
      " Shiv\n"
     ]
    },
    {
     "name": "stdout",
     "output_type": "stream",
     "text": [
      "Good to meet you Shiv\n",
      "How are you Shiv?\n"
     ]
    },
    {
     "name": "stdin",
     "output_type": "stream",
     "text": [
      " I am feeling great\n"
     ]
    },
    {
     "name": "stdout",
     "output_type": "stream",
     "text": [
      "Good to hear that\n"
     ]
    }
   ],
   "source": [
    "print(\"Hello, what is your good name?\")\n",
    "name=input()\n",
    "print(\"Good to meet you \"+name)\n",
    "greetings= [\n",
    "    \"How are you \" +name+'?',\n",
    "    \"whats up\",\n",
    "    \"How are things going on?\",\n",
    "]\n",
    "print(random.choice(greetings))\n",
    "ans=input()\n",
    "blob=TextBlob(ans)\n",
    "Positive=[\"That sounds good\",\n",
    "         \"Great to hear that\",\n",
    "         \"That sound nice\",\n",
    "          \"Good to hear that\",\n",
    "         ]\n",
    "Negative=[\"Hey stop worrying, everything is going to be fine\",\n",
    "         \"You are potential enough to handle everything just be patient\",\n",
    "         \"Sorry to hear that\",\n",
    "         \"Believe in yourself, you can do great things\",\n",
    "         \"After every dark night, a bright day emerges, so stop worrying.\"]\n",
    "if blob.polarity>0:\n",
    "    print(random.choice(Positive))\n",
    "else:\n",
    "    print(random.choice(Negative))"
   ]
  },
  {
   "cell_type": "code",
   "execution_count": null,
   "metadata": {},
   "outputs": [],
   "source": []
  }
 ],
 "metadata": {
  "kernelspec": {
   "display_name": "Python 3",
   "language": "python",
   "name": "python3"
  },
  "language_info": {
   "codemirror_mode": {
    "name": "ipython",
    "version": 3
   },
   "file_extension": ".py",
   "mimetype": "text/x-python",
   "name": "python",
   "nbconvert_exporter": "python",
   "pygments_lexer": "ipython3",
   "version": "3.8.3"
  }
 },
 "nbformat": 4,
 "nbformat_minor": 4
}
